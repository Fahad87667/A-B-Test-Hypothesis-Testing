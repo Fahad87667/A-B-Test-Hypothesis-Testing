{
 "cells": [
  {
   "cell_type": "markdown",
   "metadata": {},
   "source": [
    "## Checklist\n",
    "\n",
    "|**Section**|**Completion**|\n",
    "|-|-|\n",
    "|**Section 1**| **Completed** |\n",
    "|  Q 1 | Completed |\n",
    "|  Q 2 | Completed |\n",
    "|  Q 3 | Completed |\n",
    "|**Section 2**| **Completed** |\n",
    "|  Q 1 | Completed |\n",
    "|  Q 2 | Completed |\n",
    "|  Q 3 | Completed |\n",
    "|  Q 4 | Completed |\n",
    "|**Section 3**| **[Multi-Armed Bandit (MAB)]** |"
   ]
  },
  {
   "cell_type": "markdown",
   "metadata": {},
   "source": [
    "# Section 1 - Funnel Analysis"
   ]
  },
  {
   "cell_type": "code",
   "execution_count": 72,
   "metadata": {},
   "outputs": [],
   "source": [
    "import pandas as pd\n",
    "import numpy as np\n",
    "import matplotlib.pyplot as plt\n",
    "from statsmodels.tsa.arima.model import ARIMA\n",
    "from sklearn.metrics import mean_absolute_error, mean_squared_error, r2_score"
   ]
  },
  {
   "cell_type": "code",
   "execution_count": 73,
   "metadata": {},
   "outputs": [],
   "source": [
    "df = pd.ExcelFile('AssignmentData.xlsx')\n"
   ]
  },
  {
   "cell_type": "code",
   "execution_count": 74,
   "metadata": {},
   "outputs": [],
   "source": [
    "# Create dataframes for each sheet\n",
    "funnel = pd.read_excel(df, sheet_name='WorkerFunnel')"
   ]
  },
  {
   "cell_type": "code",
   "execution_count": 75,
   "metadata": {},
   "outputs": [
    {
     "data": {
      "text/html": [
       "<div>\n",
       "<style scoped>\n",
       "    .dataframe tbody tr th:only-of-type {\n",
       "        vertical-align: middle;\n",
       "    }\n",
       "\n",
       "    .dataframe tbody tr th {\n",
       "        vertical-align: top;\n",
       "    }\n",
       "\n",
       "    .dataframe thead th {\n",
       "        text-align: right;\n",
       "    }\n",
       "</style>\n",
       "<table border=\"1\" class=\"dataframe\">\n",
       "  <thead>\n",
       "    <tr style=\"text-align: right;\">\n",
       "      <th></th>\n",
       "      <th>Date</th>\n",
       "      <th>Quarter</th>\n",
       "      <th>Department</th>\n",
       "      <th>Targeted Productivity</th>\n",
       "      <th>Overtime</th>\n",
       "      <th>No. of Workers</th>\n",
       "      <th>Actual Productivity</th>\n",
       "    </tr>\n",
       "  </thead>\n",
       "  <tbody>\n",
       "    <tr>\n",
       "      <th>0</th>\n",
       "      <td>2015-01-01 00:00:00</td>\n",
       "      <td>Q1</td>\n",
       "      <td>Sewing</td>\n",
       "      <td>0.80</td>\n",
       "      <td>7080</td>\n",
       "      <td>59.0</td>\n",
       "      <td>0.940725</td>\n",
       "    </tr>\n",
       "    <tr>\n",
       "      <th>1</th>\n",
       "      <td>2015-01-01 00:00:00</td>\n",
       "      <td>Q1</td>\n",
       "      <td>Finishing</td>\n",
       "      <td>0.75</td>\n",
       "      <td>960</td>\n",
       "      <td>8.0</td>\n",
       "      <td>0.886500</td>\n",
       "    </tr>\n",
       "    <tr>\n",
       "      <th>2</th>\n",
       "      <td>2015-01-01 00:00:00</td>\n",
       "      <td>Q1</td>\n",
       "      <td>Sewing</td>\n",
       "      <td>0.80</td>\n",
       "      <td>3660</td>\n",
       "      <td>30.5</td>\n",
       "      <td>0.800570</td>\n",
       "    </tr>\n",
       "    <tr>\n",
       "      <th>3</th>\n",
       "      <td>2015-01-01 00:00:00</td>\n",
       "      <td>Q1</td>\n",
       "      <td>Sewing</td>\n",
       "      <td>0.80</td>\n",
       "      <td>3660</td>\n",
       "      <td>30.5</td>\n",
       "      <td>0.800570</td>\n",
       "    </tr>\n",
       "    <tr>\n",
       "      <th>4</th>\n",
       "      <td>2015-01-01 00:00:00</td>\n",
       "      <td>Q1</td>\n",
       "      <td>Sewing</td>\n",
       "      <td>0.80</td>\n",
       "      <td>1920</td>\n",
       "      <td>56.0</td>\n",
       "      <td>NaN</td>\n",
       "    </tr>\n",
       "  </tbody>\n",
       "</table>\n",
       "</div>"
      ],
      "text/plain": [
       "                  Date Quarter Department  Targeted Productivity  Overtime  \\\n",
       "0  2015-01-01 00:00:00      Q1     Sewing                   0.80      7080   \n",
       "1  2015-01-01 00:00:00      Q1  Finishing                   0.75       960   \n",
       "2  2015-01-01 00:00:00      Q1     Sewing                   0.80      3660   \n",
       "3  2015-01-01 00:00:00      Q1     Sewing                   0.80      3660   \n",
       "4  2015-01-01 00:00:00      Q1     Sewing                   0.80      1920   \n",
       "\n",
       "   No. of Workers  Actual Productivity  \n",
       "0            59.0             0.940725  \n",
       "1             8.0             0.886500  \n",
       "2            30.5             0.800570  \n",
       "3            30.5             0.800570  \n",
       "4            56.0                  NaN  "
      ]
     },
     "execution_count": 75,
     "metadata": {},
     "output_type": "execute_result"
    }
   ],
   "source": [
    "funnel.head()"
   ]
  },
  {
   "cell_type": "markdown",
   "metadata": {},
   "source": [
    "2. Create a new column called `Target Achieved` (categorical as \"**Yes**\" if Actual Productivity is greater than Targeted Productivity, and \"**No**\" otherwise). Then, Complete the below given tasks using the columns : Department, Targeted Productivity, Overtime, Number of Workers, Quarter, and Start and End Dates of the observations in the dataset. And give a summary of  the results. <br><br>\n"
   ]
  },
  {
   "cell_type": "code",
   "execution_count": 76,
   "metadata": {},
   "outputs": [],
   "source": [
    "funnel['Target Achieved'] = funnel.apply(lambda row: 'Yes' if row['Actual Productivity'] > row['Targeted Productivity'] else 'No', axis=1)"
   ]
  },
  {
   "cell_type": "code",
   "execution_count": 77,
   "metadata": {},
   "outputs": [
    {
     "data": {
      "text/html": [
       "<div>\n",
       "<style scoped>\n",
       "    .dataframe tbody tr th:only-of-type {\n",
       "        vertical-align: middle;\n",
       "    }\n",
       "\n",
       "    .dataframe tbody tr th {\n",
       "        vertical-align: top;\n",
       "    }\n",
       "\n",
       "    .dataframe thead th {\n",
       "        text-align: right;\n",
       "    }\n",
       "</style>\n",
       "<table border=\"1\" class=\"dataframe\">\n",
       "  <thead>\n",
       "    <tr style=\"text-align: right;\">\n",
       "      <th></th>\n",
       "      <th>Date</th>\n",
       "      <th>Quarter</th>\n",
       "      <th>Department</th>\n",
       "      <th>Targeted Productivity</th>\n",
       "      <th>Overtime</th>\n",
       "      <th>No. of Workers</th>\n",
       "      <th>Actual Productivity</th>\n",
       "      <th>Target Achieved</th>\n",
       "    </tr>\n",
       "  </thead>\n",
       "  <tbody>\n",
       "    <tr>\n",
       "      <th>0</th>\n",
       "      <td>2015-01-01 00:00:00</td>\n",
       "      <td>Q1</td>\n",
       "      <td>Sewing</td>\n",
       "      <td>0.80</td>\n",
       "      <td>7080</td>\n",
       "      <td>59.0</td>\n",
       "      <td>0.940725</td>\n",
       "      <td>Yes</td>\n",
       "    </tr>\n",
       "    <tr>\n",
       "      <th>1</th>\n",
       "      <td>2015-01-01 00:00:00</td>\n",
       "      <td>Q1</td>\n",
       "      <td>Finishing</td>\n",
       "      <td>0.75</td>\n",
       "      <td>960</td>\n",
       "      <td>8.0</td>\n",
       "      <td>0.886500</td>\n",
       "      <td>Yes</td>\n",
       "    </tr>\n",
       "    <tr>\n",
       "      <th>2</th>\n",
       "      <td>2015-01-01 00:00:00</td>\n",
       "      <td>Q1</td>\n",
       "      <td>Sewing</td>\n",
       "      <td>0.80</td>\n",
       "      <td>3660</td>\n",
       "      <td>30.5</td>\n",
       "      <td>0.800570</td>\n",
       "      <td>Yes</td>\n",
       "    </tr>\n",
       "    <tr>\n",
       "      <th>3</th>\n",
       "      <td>2015-01-01 00:00:00</td>\n",
       "      <td>Q1</td>\n",
       "      <td>Sewing</td>\n",
       "      <td>0.80</td>\n",
       "      <td>3660</td>\n",
       "      <td>30.5</td>\n",
       "      <td>0.800570</td>\n",
       "      <td>Yes</td>\n",
       "    </tr>\n",
       "    <tr>\n",
       "      <th>4</th>\n",
       "      <td>2015-01-01 00:00:00</td>\n",
       "      <td>Q1</td>\n",
       "      <td>Sewing</td>\n",
       "      <td>0.80</td>\n",
       "      <td>1920</td>\n",
       "      <td>56.0</td>\n",
       "      <td>NaN</td>\n",
       "      <td>No</td>\n",
       "    </tr>\n",
       "  </tbody>\n",
       "</table>\n",
       "</div>"
      ],
      "text/plain": [
       "                  Date Quarter Department  Targeted Productivity  Overtime  \\\n",
       "0  2015-01-01 00:00:00      Q1     Sewing                   0.80      7080   \n",
       "1  2015-01-01 00:00:00      Q1  Finishing                   0.75       960   \n",
       "2  2015-01-01 00:00:00      Q1     Sewing                   0.80      3660   \n",
       "3  2015-01-01 00:00:00      Q1     Sewing                   0.80      3660   \n",
       "4  2015-01-01 00:00:00      Q1     Sewing                   0.80      1920   \n",
       "\n",
       "   No. of Workers  Actual Productivity Target Achieved  \n",
       "0            59.0             0.940725             Yes  \n",
       "1             8.0             0.886500             Yes  \n",
       "2            30.5             0.800570             Yes  \n",
       "3            30.5             0.800570             Yes  \n",
       "4            56.0                  NaN              No  "
      ]
     },
     "execution_count": 77,
     "metadata": {},
     "output_type": "execute_result"
    }
   ],
   "source": [
    "funnel.head()"
   ]
  },
  {
   "cell_type": "markdown",
   "metadata": {},
   "source": [
    "1. Identify and appropriately handle the missing/blank and duplicate values in the dataset, and explain the logic behind your strategy in a short paragraph."
   ]
  },
  {
   "cell_type": "code",
   "execution_count": 78,
   "metadata": {},
   "outputs": [
    {
     "data": {
      "text/plain": [
       "Date                      0\n",
       "Quarter                   0\n",
       "Department                0\n",
       "Targeted Productivity     0\n",
       "Overtime                  0\n",
       "No. of Workers            0\n",
       "Actual Productivity      30\n",
       "Target Achieved           0\n",
       "dtype: int64"
      ]
     },
     "execution_count": 78,
     "metadata": {},
     "output_type": "execute_result"
    }
   ],
   "source": [
    "funnel.isnull().sum()"
   ]
  },
  {
   "cell_type": "code",
   "execution_count": 79,
   "metadata": {},
   "outputs": [],
   "source": [
    "# handling missing values\n",
    "funnel['Actual Productivity'] = funnel['Actual Productivity'].fillna(funnel['Actual Productivity'].median())"
   ]
  },
  {
   "cell_type": "code",
   "execution_count": 80,
   "metadata": {},
   "outputs": [
    {
     "data": {
      "text/plain": [
       "Date                     0\n",
       "Quarter                  0\n",
       "Department               0\n",
       "Targeted Productivity    0\n",
       "Overtime                 0\n",
       "No. of Workers           0\n",
       "Actual Productivity      0\n",
       "Target Achieved          0\n",
       "dtype: int64"
      ]
     },
     "execution_count": 80,
     "metadata": {},
     "output_type": "execute_result"
    }
   ],
   "source": [
    "funnel.isnull().sum()"
   ]
  },
  {
   "cell_type": "code",
   "execution_count": 81,
   "metadata": {},
   "outputs": [
    {
     "data": {
      "text/plain": [
       "36"
      ]
     },
     "execution_count": 81,
     "metadata": {},
     "output_type": "execute_result"
    }
   ],
   "source": [
    "funnel.duplicated().sum()"
   ]
  },
  {
   "cell_type": "code",
   "execution_count": 82,
   "metadata": {},
   "outputs": [],
   "source": [
    "funnel.drop_duplicates(inplace=True)"
   ]
  },
  {
   "cell_type": "code",
   "execution_count": 104,
   "metadata": {},
   "outputs": [
    {
     "data": {
      "text/plain": [
       "0"
      ]
     },
     "execution_count": 104,
     "metadata": {},
     "output_type": "execute_result"
    }
   ],
   "source": [
    "funnel.duplicated().sum()"
   ]
  },
  {
   "cell_type": "code",
   "execution_count": 103,
   "metadata": {},
   "outputs": [
    {
     "data": {
      "text/html": [
       "<div>\n",
       "<style scoped>\n",
       "    .dataframe tbody tr th:only-of-type {\n",
       "        vertical-align: middle;\n",
       "    }\n",
       "\n",
       "    .dataframe tbody tr th {\n",
       "        vertical-align: top;\n",
       "    }\n",
       "\n",
       "    .dataframe thead th {\n",
       "        text-align: right;\n",
       "    }\n",
       "</style>\n",
       "<table border=\"1\" class=\"dataframe\">\n",
       "  <thead>\n",
       "    <tr style=\"text-align: right;\">\n",
       "      <th></th>\n",
       "      <th>Quarter</th>\n",
       "      <th>Department</th>\n",
       "      <th>Targeted Productivity</th>\n",
       "      <th>Overtime</th>\n",
       "      <th>No. of Workers</th>\n",
       "      <th>Actual Productivity</th>\n",
       "      <th>Target Achieved</th>\n",
       "    </tr>\n",
       "    <tr>\n",
       "      <th>Date</th>\n",
       "      <th></th>\n",
       "      <th></th>\n",
       "      <th></th>\n",
       "      <th></th>\n",
       "      <th></th>\n",
       "      <th></th>\n",
       "      <th></th>\n",
       "    </tr>\n",
       "  </thead>\n",
       "  <tbody>\n",
       "    <tr>\n",
       "      <th>2015-01-01</th>\n",
       "      <td>Q1</td>\n",
       "      <td>Sewing</td>\n",
       "      <td>0.80</td>\n",
       "      <td>7080</td>\n",
       "      <td>59.0</td>\n",
       "      <td>0.940725</td>\n",
       "      <td>Yes</td>\n",
       "    </tr>\n",
       "    <tr>\n",
       "      <th>2015-01-01</th>\n",
       "      <td>Q1</td>\n",
       "      <td>Finishing</td>\n",
       "      <td>0.75</td>\n",
       "      <td>960</td>\n",
       "      <td>8.0</td>\n",
       "      <td>0.886500</td>\n",
       "      <td>Yes</td>\n",
       "    </tr>\n",
       "    <tr>\n",
       "      <th>2015-01-01</th>\n",
       "      <td>Q1</td>\n",
       "      <td>Sewing</td>\n",
       "      <td>0.80</td>\n",
       "      <td>3660</td>\n",
       "      <td>30.5</td>\n",
       "      <td>0.800570</td>\n",
       "      <td>Yes</td>\n",
       "    </tr>\n",
       "    <tr>\n",
       "      <th>2015-01-01</th>\n",
       "      <td>Q1</td>\n",
       "      <td>Sewing</td>\n",
       "      <td>0.80</td>\n",
       "      <td>1920</td>\n",
       "      <td>56.0</td>\n",
       "      <td>0.773333</td>\n",
       "      <td>No</td>\n",
       "    </tr>\n",
       "    <tr>\n",
       "      <th>2015-01-01</th>\n",
       "      <td>Q1</td>\n",
       "      <td>Sewing</td>\n",
       "      <td>0.80</td>\n",
       "      <td>6720</td>\n",
       "      <td>56.0</td>\n",
       "      <td>0.800125</td>\n",
       "      <td>Yes</td>\n",
       "    </tr>\n",
       "  </tbody>\n",
       "</table>\n",
       "</div>"
      ],
      "text/plain": [
       "           Quarter Department  Targeted Productivity  Overtime  \\\n",
       "Date                                                             \n",
       "2015-01-01      Q1     Sewing                   0.80      7080   \n",
       "2015-01-01      Q1  Finishing                   0.75       960   \n",
       "2015-01-01      Q1     Sewing                   0.80      3660   \n",
       "2015-01-01      Q1     Sewing                   0.80      1920   \n",
       "2015-01-01      Q1     Sewing                   0.80      6720   \n",
       "\n",
       "            No. of Workers  Actual Productivity Target Achieved  \n",
       "Date                                                             \n",
       "2015-01-01            59.0             0.940725             Yes  \n",
       "2015-01-01             8.0             0.886500             Yes  \n",
       "2015-01-01            30.5             0.800570             Yes  \n",
       "2015-01-01            56.0             0.773333              No  \n",
       "2015-01-01            56.0             0.800125             Yes  "
      ]
     },
     "execution_count": 103,
     "metadata": {},
     "output_type": "execute_result"
    }
   ],
   "source": [
    "funnel.head()"
   ]
  },
  {
   "cell_type": "markdown",
   "metadata": {},
   "source": [
    "2.  a) Create grouped bar graphs to show the level of Target achieved( 'yes' and 'No') for the given date range, at a quarterly time interval for both categories. The graph should have appropriate labels, titles and other factors which would make it readable.Also provide a brief interpretation of the graph.\n",
    "    <br><br>"
   ]
  },
  {
   "cell_type": "code",
   "execution_count": 84,
   "metadata": {},
   "outputs": [
    {
     "data": {
      "image/png": "[encoded data removed]",
      "text/plain": [
       "<Figure size 1500x1000 with 4 Axes>"
      ]
     },
     "metadata": {},
     "output_type": "display_data"
    }
   ],
   "source": [
    "# Group the data by quarter, 'Target Achieved', and department\n",
    "grouped = funnel.groupby([pd.PeriodIndex(funnel['Date'], freq='Q'), 'Target Achieved', 'Department']).size().unstack(fill_value=0)\n",
    "\n",
    "# Plot grouped bar graphs\n",
    "fig, axes = plt.subplots(nrows=len(grouped.index.levels[0]), ncols=1, figsize=(15, 10), sharex=True)\n",
    "fig.subplots_adjust(hspace=0.5)\n",
    "\n",
    "for i, (quarter, data) in enumerate(grouped.groupby(level=0)):\n",
    "    data.plot(kind='bar', stacked=True, ax=axes[i], color=['green', 'red'])\n",
    "    axes[i].set_title(f'Target Achieved by Department - Quarter {quarter}')\n",
    "    axes[i].set_ylabel('Count')\n",
    "    axes[i].set_xlabel('Department')\n",
    "    axes[i].legend(title='Target Achieved', labels=['Yes', 'No'])\n",
    "\n",
    "plt.xticks(rotation=45, ha='right')\n",
    "plt.tight_layout()\n",
    "plt.show()\n",
    "\n",
    "\n"
   ]
  },
  {
   "cell_type": "markdown",
   "metadata": {},
   "source": [
    "Interpretation:\n",
    "\n",
    "1. Each grouped bar graph represents a quarter.\n",
    "2. For each quarter, the bars show the count of 'Yes' and 'No' for target achievement in each department.\n",
    "3. The green bars represent 'Yes' (target achieved) and the red bars represent 'No' (target not achieved).\n",
    "4. By comparing the heights of the green and red bars, you can visualize the proportion of target achievement in each department over 5. the quarters.\n",
    "5. This visualization helps in identifying trends and patterns in target achievement across different departments over time.\n"
   ]
  },
  {
   "cell_type": "markdown",
   "metadata": {},
   "source": [
    "-------------------------------------------------------------------------------------------------------------------------"
   ]
  },
  {
   "cell_type": "markdown",
   "metadata": {},
   "source": [
    "2. b) Forecast the Actual Productivity and create a line graph for the next four quarters using the following algorithms mentioned below and display the values, then create plots for the result achieved using appropriate plots: <br>\n",
    "      (i) ARIMA <br>\n",
    "      (ii) Rolling Averages <br><br>"
   ]
  },
  {
   "cell_type": "code",
   "execution_count": 85,
   "metadata": {},
   "outputs": [
    {
     "name": "stderr",
     "output_type": "stream",
     "text": [
      "c:\\Users\\HP\\AppData\\Local\\Programs\\Python\\Python311\\Lib\\site-packages\\statsmodels\\tsa\\base\\tsa_model.py:473: ValueWarning: A date index has been provided, but it has no associated frequency information and so will be ignored when e.g. forecasting.\n",
      "  self._init_dates(dates, freq)\n",
      "c:\\Users\\HP\\AppData\\Local\\Programs\\Python\\Python311\\Lib\\site-packages\\statsmodels\\tsa\\base\\tsa_model.py:473: ValueWarning: A date index has been provided, but it is not monotonic and so will be ignored when e.g. forecasting.\n",
      "  self._init_dates(dates, freq)\n",
      "c:\\Users\\HP\\AppData\\Local\\Programs\\Python\\Python311\\Lib\\site-packages\\statsmodels\\tsa\\base\\tsa_model.py:473: ValueWarning: A date index has been provided, but it has no associated frequency information and so will be ignored when e.g. forecasting.\n",
      "  self._init_dates(dates, freq)\n",
      "c:\\Users\\HP\\AppData\\Local\\Programs\\Python\\Python311\\Lib\\site-packages\\statsmodels\\tsa\\base\\tsa_model.py:473: ValueWarning: A date index has been provided, but it is not monotonic and so will be ignored when e.g. forecasting.\n",
      "  self._init_dates(dates, freq)\n",
      "c:\\Users\\HP\\AppData\\Local\\Programs\\Python\\Python311\\Lib\\site-packages\\statsmodels\\tsa\\base\\tsa_model.py:473: ValueWarning: A date index has been provided, but it has no associated frequency information and so will be ignored when e.g. forecasting.\n",
      "  self._init_dates(dates, freq)\n",
      "c:\\Users\\HP\\AppData\\Local\\Programs\\Python\\Python311\\Lib\\site-packages\\statsmodels\\tsa\\base\\tsa_model.py:473: ValueWarning: A date index has been provided, but it is not monotonic and so will be ignored when e.g. forecasting.\n",
      "  self._init_dates(dates, freq)\n"
     ]
    },
    {
     "name": "stderr",
     "output_type": "stream",
     "text": [
      "c:\\Users\\HP\\AppData\\Local\\Programs\\Python\\Python311\\Lib\\site-packages\\statsmodels\\tsa\\base\\tsa_model.py:836: ValueWarning: No supported index is available. Prediction results will be given with an integer index beginning at `start`.\n",
      "  return get_prediction_index(\n",
      "c:\\Users\\HP\\AppData\\Local\\Programs\\Python\\Python311\\Lib\\site-packages\\statsmodels\\tsa\\base\\tsa_model.py:836: FutureWarning: No supported index is available. In the next version, calling this method in a model without a supported index will result in an exception.\n",
      "  return get_prediction_index(\n"
     ]
    }
   ],
   "source": [
    "\n",
    "# Prepare the data\n",
    "funnel['Date'] = pd.to_datetime(funnel['Date'])\n",
    "funnel.set_index('Date', inplace=True)\n",
    "\n",
    "# Forecasting using ARIMA\n",
    "arima_model = ARIMA(funnel['Actual Productivity'], order=(5,1,0))  # Adjust the order as needed\n",
    "arima_result = arima_model.fit()\n",
    "arima_forecast = arima_result.forecast(steps=4)\n"
   ]
  },
  {
   "cell_type": "code",
   "execution_count": 86,
   "metadata": {},
   "outputs": [
    {
     "name": "stderr",
     "output_type": "stream",
     "text": [
      "C:\\Users\\HP\\AppData\\Local\\Temp\\ipykernel_12372\\2906283907.py:3: FutureWarning: Series.__getitem__ treating keys as positions is deprecated. In a future version, integer keys will always be treated as labels (consistent with DataFrame behavior). To access a value by position, use `ser.iloc[pos]`\n",
      "  rolling_average_forecast = rolling_average[-1]\n"
     ]
    }
   ],
   "source": [
    "# Forecasting using Rolling Averages\n",
    "rolling_average = funnel['Actual Productivity'].rolling(window=4).mean()\n",
    "rolling_average_forecast = rolling_average[-1]\n"
   ]
  },
  {
   "cell_type": "code",
   "execution_count": 87,
   "metadata": {},
   "outputs": [
    {
     "data": {
      "image/png": "[encoded data removed]",
      "text/plain": [
       "<Figure size 1000x500 with 1 Axes>"
      ]
     },
     "metadata": {},
     "output_type": "display_data"
    }
   ],
   "source": [
    "# Plotting the Results\n",
    "plt.figure(figsize=(10, 5))\n",
    "\n",
    "# ARIMA Forecast\n",
    "plt.plot(funnel.index, funnel['Actual Productivity'], label='Actual Productivity')\n",
    "plt.plot(arima_forecast.index, arima_forecast, label='ARIMA Forecast', linestyle='--')\n",
    "\n",
    "# Rolling Averages Forecast\n",
    "plt.axhline(y=rolling_average_forecast, color='red', linestyle=':', label='Rolling Averages Forecast')\n",
    "\n",
    "plt.title('Forecasting Actual Productivity')\n",
    "plt.xlabel('Date')\n",
    "plt.ylabel('Actual Productivity')\n",
    "plt.legend()\n",
    "plt.grid(True)\n",
    "plt.xticks(rotation=45)\n",
    "plt.tight_layout()\n",
    "plt.show()"
   ]
  },
  {
   "cell_type": "markdown",
   "metadata": {},
   "source": [
    "2. c) Ceate a summary of comparison with the evaluation criteria and their values for each model. You can add more evaluation criteria, which will contribute to your increased chances of selection, but the following are a must have: <br>\n",
    "    (i) Mean Absolute Percentage Error (MAPE)<br>\n",
    "    (ii) Mean Squared Error (MSE)"
   ]
  },
  {
   "cell_type": "code",
   "execution_count": 88,
   "metadata": {},
   "outputs": [],
   "source": [
    "# Calculate evaluation metrics for ARIMA forecast\n",
    "actual_values = funnel['Actual Productivity'][-4:].values\n",
    "arima_mape = np.mean(np.abs((actual_values - arima_forecast.values) / actual_values)) * 100\n",
    "arima_mse = mean_squared_error(actual_values, arima_forecast.values)\n",
    "arima_rmse = np.sqrt(arima_mse)\n",
    "arima_mae = mean_absolute_error(actual_values, arima_forecast.values)\n",
    "arima_r2 = r2_score(actual_values, arima_forecast.values)"
   ]
  },
  {
   "cell_type": "code",
   "execution_count": 89,
   "metadata": {},
   "outputs": [],
   "source": [
    "# Calculate evaluation metrics for Rolling Averages forecast\n",
    "rolling_avg_mape = np.mean(np.abs((actual_values - rolling_average_forecast) / actual_values)) * 100\n",
    "rolling_avg_mse = mean_squared_error(actual_values, np.full_like(actual_values, rolling_average_forecast))\n",
    "rolling_avg_rmse = np.sqrt(rolling_avg_mse)\n",
    "rolling_avg_mae = mean_absolute_error(actual_values, np.full_like(actual_values, rolling_average_forecast))\n",
    "rolling_avg_r2 = r2_score(actual_values, np.full_like(actual_values, rolling_average_forecast))\n"
   ]
  },
  {
   "cell_type": "code",
   "execution_count": 90,
   "metadata": {},
   "outputs": [
    {
     "name": "stdout",
     "output_type": "stream",
     "text": [
      "Summary of Model Comparison:\n",
      "---------------------------------------------------------------------\n",
      "Model             |  MAPE (%) |  MSE     | RMSE |  MAE |  R-squared\n",
      "---------------------------------------------------------------------\n",
      "ARIMA             |  24.18     |  0.04  |  0.19  |  0.15  |  -0.80\n",
      "Rolling Averages  |  23.26     |  0.02  |  0.14  |  0.12  |  0.00\n",
      "---------------------------------------------------------------------\n"
     ]
    }
   ],
   "source": [
    "print(\"Summary of Model Comparison:\")\n",
    "print(\"---------------------------------------------------------------------\")\n",
    "print(\"Model             |  MAPE (%) |  MSE     | RMSE |  MAE |  R-squared\")\n",
    "print(\"---------------------------------------------------------------------\")\n",
    "print(f\"ARIMA             |  {arima_mape:.2f}     |  {arima_mse:.2f}  |  {arima_rmse:.2f}  |  {arima_mae:.2f}  |  {arima_r2:.2f}\")\n",
    "print(f\"Rolling Averages  |  {rolling_avg_mape:.2f}     |  {rolling_avg_mse:.2f}  |  {rolling_avg_rmse:.2f}  |  {rolling_avg_mae:.2f}  |  {rolling_avg_r2:.2f}\")\n",
    "print(\"---------------------------------------------------------------------\")\n"
   ]
  },
  {
   "cell_type": "markdown",
   "metadata": {},
   "source": []
  },
  {
   "cell_type": "markdown",
   "metadata": {},
   "source": [
    "3. Powerpoint presentation"
   ]
  },
  {
   "cell_type": "code",
   "execution_count": 92,
   "metadata": {},
   "outputs": [
    {
     "data": {
      "text/html": [
       "<div>\n",
       "<style scoped>\n",
       "    .dataframe tbody tr th:only-of-type {\n",
       "        vertical-align: middle;\n",
       "    }\n",
       "\n",
       "    .dataframe tbody tr th {\n",
       "        vertical-align: top;\n",
       "    }\n",
       "\n",
       "    .dataframe thead th {\n",
       "        text-align: right;\n",
       "    }\n",
       "</style>\n",
       "<table border=\"1\" class=\"dataframe\">\n",
       "  <thead>\n",
       "    <tr style=\"text-align: right;\">\n",
       "      <th></th>\n",
       "      <th>Quarter</th>\n",
       "      <th>Department</th>\n",
       "      <th>Targeted Productivity</th>\n",
       "      <th>Overtime</th>\n",
       "      <th>No. of Workers</th>\n",
       "      <th>Actual Productivity</th>\n",
       "      <th>Target Achieved</th>\n",
       "    </tr>\n",
       "    <tr>\n",
       "      <th>Date</th>\n",
       "      <th></th>\n",
       "      <th></th>\n",
       "      <th></th>\n",
       "      <th></th>\n",
       "      <th></th>\n",
       "      <th></th>\n",
       "      <th></th>\n",
       "    </tr>\n",
       "  </thead>\n",
       "  <tbody>\n",
       "    <tr>\n",
       "      <th>2015-01-01</th>\n",
       "      <td>Q1</td>\n",
       "      <td>Sewing</td>\n",
       "      <td>0.80</td>\n",
       "      <td>7080</td>\n",
       "      <td>59.0</td>\n",
       "      <td>0.940725</td>\n",
       "      <td>Yes</td>\n",
       "    </tr>\n",
       "    <tr>\n",
       "      <th>2015-01-01</th>\n",
       "      <td>Q1</td>\n",
       "      <td>Finishing</td>\n",
       "      <td>0.75</td>\n",
       "      <td>960</td>\n",
       "      <td>8.0</td>\n",
       "      <td>0.886500</td>\n",
       "      <td>Yes</td>\n",
       "    </tr>\n",
       "    <tr>\n",
       "      <th>2015-01-01</th>\n",
       "      <td>Q1</td>\n",
       "      <td>Sewing</td>\n",
       "      <td>0.80</td>\n",
       "      <td>3660</td>\n",
       "      <td>30.5</td>\n",
       "      <td>0.800570</td>\n",
       "      <td>Yes</td>\n",
       "    </tr>\n",
       "    <tr>\n",
       "      <th>2015-01-01</th>\n",
       "      <td>Q1</td>\n",
       "      <td>Sewing</td>\n",
       "      <td>0.80</td>\n",
       "      <td>1920</td>\n",
       "      <td>56.0</td>\n",
       "      <td>0.773333</td>\n",
       "      <td>No</td>\n",
       "    </tr>\n",
       "    <tr>\n",
       "      <th>2015-01-01</th>\n",
       "      <td>Q1</td>\n",
       "      <td>Sewing</td>\n",
       "      <td>0.80</td>\n",
       "      <td>6720</td>\n",
       "      <td>56.0</td>\n",
       "      <td>0.800125</td>\n",
       "      <td>Yes</td>\n",
       "    </tr>\n",
       "  </tbody>\n",
       "</table>\n",
       "</div>"
      ],
      "text/plain": [
       "           Quarter Department  Targeted Productivity  Overtime  \\\n",
       "Date                                                             \n",
       "2015-01-01      Q1     Sewing                   0.80      7080   \n",
       "2015-01-01      Q1  Finishing                   0.75       960   \n",
       "2015-01-01      Q1     Sewing                   0.80      3660   \n",
       "2015-01-01      Q1     Sewing                   0.80      1920   \n",
       "2015-01-01      Q1     Sewing                   0.80      6720   \n",
       "\n",
       "            No. of Workers  Actual Productivity Target Achieved  \n",
       "Date                                                             \n",
       "2015-01-01            59.0             0.940725             Yes  \n",
       "2015-01-01             8.0             0.886500             Yes  \n",
       "2015-01-01            30.5             0.800570             Yes  \n",
       "2015-01-01            56.0             0.773333              No  \n",
       "2015-01-01            56.0             0.800125             Yes  "
      ]
     },
     "execution_count": 92,
     "metadata": {},
     "output_type": "execute_result"
    }
   ],
   "source": [
    "funnel.head()"
   ]
  },
  {
   "cell_type": "markdown",
   "metadata": {},
   "source": [
    "# Section 2 - A/B Testing"
   ]
  },
  {
   "cell_type": "markdown",
   "metadata": {},
   "source": [
    "1. Create a timeseries visualization with Date (on x-axis) and Total Number of Clicks (on y-axis) for each device type creating separate trendlines for each device in order to find which device performed best in terms of total number of clicks."
   ]
  },
  {
   "cell_type": "code",
   "execution_count": 93,
   "metadata": {},
   "outputs": [],
   "source": [
    "abtest = pd.read_excel(df, sheet_name=\"ABTest\")"
   ]
  },
  {
   "cell_type": "code",
   "execution_count": 94,
   "metadata": {},
   "outputs": [
    {
     "data": {
      "text/html": [
       "<div>\n",
       "<style scoped>\n",
       "    .dataframe tbody tr th:only-of-type {\n",
       "        vertical-align: middle;\n",
       "    }\n",
       "\n",
       "    .dataframe tbody tr th {\n",
       "        vertical-align: top;\n",
       "    }\n",
       "\n",
       "    .dataframe thead th {\n",
       "        text-align: right;\n",
       "    }\n",
       "</style>\n",
       "<table border=\"1\" class=\"dataframe\">\n",
       "  <thead>\n",
       "    <tr style=\"text-align: right;\">\n",
       "      <th></th>\n",
       "      <th>Date</th>\n",
       "      <th>Device</th>\n",
       "      <th>Address</th>\n",
       "      <th>Clicks</th>\n",
       "      <th>Visitors</th>\n",
       "      <th>Group</th>\n",
       "    </tr>\n",
       "  </thead>\n",
       "  <tbody>\n",
       "    <tr>\n",
       "      <th>0</th>\n",
       "      <td>2023-05-18</td>\n",
       "      <td>Mobile</td>\n",
       "      <td>fyttlyf/business/campaign/campaigns-business/c...</td>\n",
       "      <td>159</td>\n",
       "      <td>199</td>\n",
       "      <td>Control</td>\n",
       "    </tr>\n",
       "    <tr>\n",
       "      <th>1</th>\n",
       "      <td>2023-05-18</td>\n",
       "      <td>Laptop</td>\n",
       "      <td>fyttlyf/business/campaign/get-paid///</td>\n",
       "      <td>18</td>\n",
       "      <td>1413</td>\n",
       "      <td>Experiment</td>\n",
       "    </tr>\n",
       "    <tr>\n",
       "      <th>2</th>\n",
       "      <td>2023-05-18</td>\n",
       "      <td>Mobile</td>\n",
       "      <td>fyttlyf/business/campaign/campaigns-business/s...</td>\n",
       "      <td>142</td>\n",
       "      <td>759</td>\n",
       "      <td>Control</td>\n",
       "    </tr>\n",
       "    <tr>\n",
       "      <th>3</th>\n",
       "      <td>2023-05-18</td>\n",
       "      <td>Laptop</td>\n",
       "      <td>fyttlyf/business/product/business-financial-se...</td>\n",
       "      <td>126</td>\n",
       "      <td>473</td>\n",
       "      <td>Control</td>\n",
       "    </tr>\n",
       "    <tr>\n",
       "      <th>4</th>\n",
       "      <td>2023-05-18</td>\n",
       "      <td>Laptop</td>\n",
       "      <td>fyttlyf/business/product/business-accept-payme...</td>\n",
       "      <td>129</td>\n",
       "      <td>183</td>\n",
       "      <td>Control</td>\n",
       "    </tr>\n",
       "  </tbody>\n",
       "</table>\n",
       "</div>"
      ],
      "text/plain": [
       "        Date  Device                                            Address  \\\n",
       "0 2023-05-18  Mobile  fyttlyf/business/campaign/campaigns-business/c...   \n",
       "1 2023-05-18  Laptop              fyttlyf/business/campaign/get-paid///   \n",
       "2 2023-05-18  Mobile  fyttlyf/business/campaign/campaigns-business/s...   \n",
       "3 2023-05-18  Laptop  fyttlyf/business/product/business-financial-se...   \n",
       "4 2023-05-18  Laptop  fyttlyf/business/product/business-accept-payme...   \n",
       "\n",
       "   Clicks  Visitors       Group  \n",
       "0     159       199     Control  \n",
       "1      18      1413  Experiment  \n",
       "2     142       759     Control  \n",
       "3     126       473     Control  \n",
       "4     129       183     Control  "
      ]
     },
     "execution_count": 94,
     "metadata": {},
     "output_type": "execute_result"
    }
   ],
   "source": [
    "abtest.head()"
   ]
  },
  {
   "cell_type": "code",
   "execution_count": 95,
   "metadata": {},
   "outputs": [
    {
     "name": "stdout",
     "output_type": "stream",
     "text": [
      "<class 'pandas.core.frame.DataFrame'>\n",
      "RangeIndex: 18099 entries, 0 to 18098\n",
      "Data columns (total 6 columns):\n",
      " #   Column    Non-Null Count  Dtype         \n",
      "---  ------    --------------  -----         \n",
      " 0   Date      18099 non-null  datetime64[ns]\n",
      " 1   Device    18099 non-null  object        \n",
      " 2   Address   18099 non-null  object        \n",
      " 3   Clicks    18099 non-null  int64         \n",
      " 4   Visitors  18099 non-null  int64         \n",
      " 5   Group     18099 non-null  object        \n",
      "dtypes: datetime64[ns](1), int64(2), object(3)\n",
      "memory usage: 848.5+ KB\n"
     ]
    }
   ],
   "source": [
    "abtest.info()"
   ]
  },
  {
   "cell_type": "code",
   "execution_count": 96,
   "metadata": {},
   "outputs": [
    {
     "data": {
      "text/html": [
       "<div>\n",
       "<style scoped>\n",
       "    .dataframe tbody tr th:only-of-type {\n",
       "        vertical-align: middle;\n",
       "    }\n",
       "\n",
       "    .dataframe tbody tr th {\n",
       "        vertical-align: top;\n",
       "    }\n",
       "\n",
       "    .dataframe thead th {\n",
       "        text-align: right;\n",
       "    }\n",
       "</style>\n",
       "<table border=\"1\" class=\"dataframe\">\n",
       "  <thead>\n",
       "    <tr style=\"text-align: right;\">\n",
       "      <th></th>\n",
       "      <th>Date</th>\n",
       "      <th>Clicks</th>\n",
       "      <th>Visitors</th>\n",
       "    </tr>\n",
       "  </thead>\n",
       "  <tbody>\n",
       "    <tr>\n",
       "      <th>count</th>\n",
       "      <td>18099</td>\n",
       "      <td>18099.000000</td>\n",
       "      <td>18099.000000</td>\n",
       "    </tr>\n",
       "    <tr>\n",
       "      <th>mean</th>\n",
       "      <td>2023-05-15 09:33:19.602188032</td>\n",
       "      <td>62.600033</td>\n",
       "      <td>495.485441</td>\n",
       "    </tr>\n",
       "    <tr>\n",
       "      <th>min</th>\n",
       "      <td>2023-05-07 00:00:00</td>\n",
       "      <td>0.000000</td>\n",
       "      <td>0.000000</td>\n",
       "    </tr>\n",
       "    <tr>\n",
       "      <th>25%</th>\n",
       "      <td>2023-05-11 00:00:00</td>\n",
       "      <td>6.000000</td>\n",
       "      <td>21.000000</td>\n",
       "    </tr>\n",
       "    <tr>\n",
       "      <th>50%</th>\n",
       "      <td>2023-05-15 00:00:00</td>\n",
       "      <td>11.000000</td>\n",
       "      <td>33.000000</td>\n",
       "    </tr>\n",
       "    <tr>\n",
       "      <th>75%</th>\n",
       "      <td>2023-05-20 00:00:00</td>\n",
       "      <td>20.000000</td>\n",
       "      <td>97.000000</td>\n",
       "    </tr>\n",
       "    <tr>\n",
       "      <th>max</th>\n",
       "      <td>2023-05-24 00:00:00</td>\n",
       "      <td>11199.000000</td>\n",
       "      <td>211868.000000</td>\n",
       "    </tr>\n",
       "    <tr>\n",
       "      <th>std</th>\n",
       "      <td>NaN</td>\n",
       "      <td>377.536611</td>\n",
       "      <td>5704.920360</td>\n",
       "    </tr>\n",
       "  </tbody>\n",
       "</table>\n",
       "</div>"
      ],
      "text/plain": [
       "                                Date        Clicks       Visitors\n",
       "count                          18099  18099.000000   18099.000000\n",
       "mean   2023-05-15 09:33:19.602188032     62.600033     495.485441\n",
       "min              2023-05-07 00:00:00      0.000000       0.000000\n",
       "25%              2023-05-11 00:00:00      6.000000      21.000000\n",
       "50%              2023-05-15 00:00:00     11.000000      33.000000\n",
       "75%              2023-05-20 00:00:00     20.000000      97.000000\n",
       "max              2023-05-24 00:00:00  11199.000000  211868.000000\n",
       "std                              NaN    377.536611    5704.920360"
      ]
     },
     "execution_count": 96,
     "metadata": {},
     "output_type": "execute_result"
    }
   ],
   "source": [
    "abtest.describe()"
   ]
  },
  {
   "cell_type": "code",
   "execution_count": 97,
   "metadata": {},
   "outputs": [
    {
     "data": {
      "image/png": "[encoded data removed]",
      "text/plain": [
       "<Figure size 1000x500 with 1 Axes>"
      ]
     },
     "metadata": {},
     "output_type": "display_data"
    }
   ],
   "source": [
    "plt.figure(figsize=(10, 5))\n",
    "\n",
    "# Loop through unique devices and plot trendlines for each\n",
    "for device, data in abtest.groupby('Device'):\n",
    "    plt.plot(data['Date'], data['Clicks'], label=device)\n",
    "\n",
    "plt.title('Total Number of Clicks Over Time by Device')\n",
    "plt.xlabel('Date')\n",
    "plt.ylabel('Total Number of Clicks')\n",
    "plt.legend()\n",
    "plt.grid(True)\n",
    "plt.xticks(rotation=45)\n",
    "plt.tight_layout()\n",
    "plt.show()"
   ]
  },
  {
   "cell_type": "markdown",
   "metadata": {},
   "source": [
    "2. Assume MDE = 3%, α = 95% and statistical power (1-β) = 80%,. What is the sample size required for the test? (Use this article to supplement your understanding - [Sample Size in A/B Testing](https://guessthetest.com/calculating-sample-size-in-a-b-testing-everything-you-need-to-know/)). Do we have sufficient sample size to conclude the test?"
   ]
  },
  {
   "cell_type": "code",
   "execution_count": 98,
   "metadata": {},
   "outputs": [
    {
     "name": "stdout",
     "output_type": "stream",
     "text": [
      "Z-value for alpha/2: 1.959963984540054\n",
      "Z-value for beta: 0.8416212335729143\n"
     ]
    }
   ],
   "source": [
    "from scipy.stats import norm\n",
    "\n",
    "alpha = 0.05\n",
    "beta = 1 - 0.80\n",
    "\n",
    "# Z-value for alpha/2\n",
    "z_alpha_2 = norm.ppf(1 - alpha/2)\n",
    "\n",
    "# Z-value for beta\n",
    "z_beta = norm.ppf(1 - beta)\n",
    "\n",
    "print(\"Z-value for alpha/2:\", z_alpha_2)\n",
    "print(\"Z-value for beta:\", z_beta)"
   ]
  },
  {
   "cell_type": "code",
   "execution_count": 99,
   "metadata": {},
   "outputs": [
    {
     "name": "stdout",
     "output_type": "stream",
     "text": [
      "Required sample size per variant: 17441.954965220197\n"
     ]
    }
   ],
   "source": [
    "MDE = 0.03  # 3%\n",
    "expected_conversion_rate = 0.10  # Example expected conversion rate (10%)\n",
    "variance = 0.01  # Example variance\n",
    "\n",
    "# Calculate sample size\n",
    "sample_size = (2 * (z_alpha_2 + z_beta)**2 * variance) / (MDE * expected_conversion_rate)**2\n",
    "print(\"Required sample size per variant:\", sample_size)\n"
   ]
  },
  {
   "cell_type": "markdown",
   "metadata": {},
   "source": [
    "The required sample size per variant is approximately 17,442, considering a 3% Minimum Detectable Effect, a 95% confidence level, and an 80% statistical power. It's essential to confirm that this sample size meets the minimum thresholds for visitors and conversions per variant and to use realistic estimates for the Expected Conversion Rate and Variance based on historical data or domain knowledge to ensure the validity of the test results."
   ]
  },
  {
   "cell_type": "markdown",
   "metadata": {},
   "source": [
    "----------------------------------------------------------------------------------------------------------------"
   ]
  },
  {
   "cell_type": "markdown",
   "metadata": {},
   "source": [
    "3. Write a function that accepts the following inputs to test your hypothesis at the chosen level of statistical significance:\n",
    "    - Control Group Visitors\n",
    "    - Control Group Conversions\n",
    "    - Treatment Group Visitors\n",
    "    - Treatment Group Conversions\n",
    "    - Confidence Level (three options: 90, 95, 99).\n",
    "\n",
    "  The function should output one of 3 values - `{\"Experiment Group is Better\", \"Control Group is Better\", \"Indeterminate\"}`.<br> Use the function to perform AB Test on the given Data and provide your findings and interpretation of the results.<br><br>"
   ]
  },
  {
   "cell_type": "code",
   "execution_count": 100,
   "metadata": {},
   "outputs": [
    {
     "name": "stdout",
     "output_type": "stream",
     "text": [
      "AB Test Result: Control Group is Better\n"
     ]
    }
   ],
   "source": [
    "from scipy.stats import norm\n",
    "\n",
    "def ab_test(control_visitors, control_conversions, treatment_visitors, treatment_conversions, confidence_level):\n",
    "    # Calculate conversion rates\n",
    "    control_conversion_rate = control_conversions / control_visitors\n",
    "    treatment_conversion_rate = treatment_conversions / treatment_visitors\n",
    "    \n",
    "    # Calculate pooled probability\n",
    "    pooled_probability = (control_conversions + treatment_conversions) / (control_visitors + treatment_visitors)\n",
    "    \n",
    "    # Calculate standard error\n",
    "    standard_error = ((pooled_probability * (1 - pooled_probability)) * ((1 / control_visitors) + (1 / treatment_visitors))) ** 0.5\n",
    "    \n",
    "    # Calculate z-score\n",
    "    z_score = (treatment_conversion_rate - control_conversion_rate) / standard_error\n",
    "    \n",
    "    # Determine critical value based on confidence level\n",
    "    if confidence_level == 90:\n",
    "        critical_value = norm.ppf(0.95)\n",
    "    elif confidence_level == 95:\n",
    "        critical_value = norm.ppf(0.975)\n",
    "    elif confidence_level == 99:\n",
    "        critical_value = norm.ppf(0.995)\n",
    "    else:\n",
    "        raise ValueError(\"Confidence level must be 90, 95, or 99\")\n",
    "    \n",
    "    # Perform hypothesis test\n",
    "    if z_score > critical_value:\n",
    "        return \"Experiment Group is Better\"\n",
    "    elif z_score < -critical_value:\n",
    "        return \"Control Group is Better\"\n",
    "    else:\n",
    "        return \"Indeterminate\"\n",
    "\n",
    "# Example usage:\n",
    "control_visitors = 1000\n",
    "control_conversions = 1000\n",
    "treatment_visitors = 1000\n",
    "treatment_conversions = 120\n",
    "confidence_level = 90\n",
    "\n",
    "result = ab_test(control_visitors, control_conversions, treatment_visitors, treatment_conversions, confidence_level)\n",
    "print(\"AB Test Result:\", result)\n"
   ]
  },
  {
   "cell_type": "markdown",
   "metadata": {},
   "source": [
    "---\n",
    "# Section 3 - Advanced Learning\n"
   ]
  },
  {
   "cell_type": "markdown",
   "metadata": {},
   "source": [
    "I chose this topic.\n",
    "\n",
    "  - Multi-Armed Bandit (MAB)<br>\n",
    "[A brief overview of the Multi-Armed Bandit in Reinforcement Learning](https://medium.com/analytics-vidhya/a-brief-overview-of-the-multi-armed-bandit-in-reinforcement-learning-d086853dc90a)<br>\n",
    "[Solving the Multi-Armed Bandit Problem](https://towardsdatascience.com/solving-the-multi-armed-bandit-problem-b72de40db97c)<br>\n",
    "[What is the Multi-Armed Bandit Problem?](https://www.optimizely.com/optimization-glossary/multi-armed-bandit/)<br><br>"
   ]
  },
  {
   "cell_type": "code",
   "execution_count": null,
   "metadata": {},
   "outputs": [],
   "source": []
  }
 ],
 "metadata": {
  "kernelspec": {
   "display_name": "Python 3",
   "language": "python",
   "name": "python3"
  },
  "language_info": {
   "codemirror_mode": {
    "name": "ipython",
    "version": 3
   },
   "file_extension": ".py",
   "mimetype": "text/x-python",
   "name": "python",
   "nbconvert_exporter": "python",
   "pygments_lexer": "ipython3",
   "version": "3.11.0"
  }
 },
 "nbformat": 4,
 "nbformat_minor": 2
}
